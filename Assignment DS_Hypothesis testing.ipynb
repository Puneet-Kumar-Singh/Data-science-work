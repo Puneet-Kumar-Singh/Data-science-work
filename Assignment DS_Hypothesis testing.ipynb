{
 "cells": [
  {
   "cell_type": "markdown",
   "id": "312ed2bc-7bc8-4926-9283-343eb26d4c1d",
   "metadata": {},
   "source": [
    "## CHI SQUARE TEST"
   ]
  },
  {
   "cell_type": "raw",
   "id": "b5d5bea3-5d17-4c8b-a5d3-a8af3adb040a",
   "metadata": {},
   "source": [
    "Null Hypothesis (H0):\n",
    "There is no significant association between the type of smart home device purchased and the customer satisfaction level.\n",
    "\n",
    "Alternative Hypothesis (𝐻1):\n",
    "There is a significant association between the type of smart home device purchased and the customer satisfaction level."
   ]
  },
  {
   "cell_type": "code",
   "execution_count": 3,
   "id": "0640fb3a-130e-4dd2-8bea-837137e7dda7",
   "metadata": {},
   "outputs": [
    {
     "data": {
      "text/plain": [
       "array([[ 50,  70],\n",
       "       [ 80, 100],\n",
       "       [ 60,  90],\n",
       "       [ 30,  50],\n",
       "       [ 20,  50]])"
      ]
     },
     "execution_count": 3,
     "metadata": {},
     "output_type": "execute_result"
    }
   ],
   "source": [
    "import numpy as np\n",
    "import pandas as pd\n",
    "from scipy.stats import chi2_contingency\n",
    "\n",
    "# Create the contingency table\n",
    "data = np.array([[50, 70],   # Very Satisfied\n",
    "                 [80, 100],  # Satisfied\n",
    "                 [60, 90],   # Neutral\n",
    "                 [30, 50],   # Unsatisfied\n",
    "                 [20, 50]])  # Very Unsatisfied\n",
    "data"
   ]
  },
  {
   "cell_type": "code",
   "execution_count": 7,
   "id": "6bf03f10-9794-43c4-9815-af97fccd5204",
   "metadata": {},
   "outputs": [
    {
     "name": "stdout",
     "output_type": "stream",
     "text": [
      "cho2_stat 5.638227513227513 \n",
      "p_value 0.22784371130697179 \n",
      "dof 4 \n",
      "expected [[ 48.  72.]\n",
      " [ 72. 108.]\n",
      " [ 60.  90.]\n",
      " [ 32.  48.]\n",
      " [ 28.  42.]]\n"
     ]
    }
   ],
   "source": [
    "# Perform the Chi-Square test\n",
    "chi2_stat, p_value, dof, expected = chi2_contingency(data)\n",
    "# Output the results\n",
    "print(\"cho2_stat\",chi2_stat,\"\\np_value\", p_value,\"\\ndof\", dof,\"\\nexpected\", expected)"
   ]
  },
  {
   "cell_type": "code",
   "execution_count": 9,
   "id": "e215b207-6ac5-4a93-8da7-ac6afbbc4e39",
   "metadata": {},
   "outputs": [
    {
     "data": {
      "text/plain": [
       "9.487729036781154"
      ]
     },
     "execution_count": 9,
     "metadata": {},
     "output_type": "execute_result"
    }
   ],
   "source": [
    "from scipy.stats import chi2\n",
    "\n",
    "# Significance level\n",
    "alpha = 0.05\n",
    "\n",
    "# Critical value\n",
    "critical_value = chi2.ppf(1 - alpha, dof)\n",
    "\n",
    "critical_value\n"
   ]
  },
  {
   "cell_type": "code",
   "execution_count": 10,
   "id": "c92dfbb1-16e1-4c01-8a9a-51198fd83018",
   "metadata": {},
   "outputs": [
    {
     "data": {
      "text/plain": [
       "'Fail to reject the null hypothesis.'"
      ]
     },
     "execution_count": 10,
     "metadata": {},
     "output_type": "execute_result"
    }
   ],
   "source": [
    "# Decision based on the Chi-Square statistic\n",
    "if chi2_stat > critical_value:\n",
    "    decision = \"Reject the null hypothesis.\"\n",
    "else:\n",
    "    decision = \"Fail to reject the null hypothesis.\"\n",
    "\n",
    "decision"
   ]
  },
  {
   "cell_type": "markdown",
   "id": "6fb9015e-ad64-47c9-a870-c8705644cc95",
   "metadata": {},
   "source": [
    "## Conclusion\n",
    "Based on the results of the Chi-Square test,\n",
    "you can conclude whether there is a significant association between the type of smart home device purchased and customer satisfaction levels.\n",
    "If the Chi-Square statistic exceeds the critical value, you would reject the null hypothesis, indicating a significant association.\n",
    "If not, you fail to reject the null hypothesis, suggesting no significant association."
   ]
  },
  {
   "cell_type": "code",
   "execution_count": null,
   "id": "8d22bef5-1012-4dd6-b32f-f61983f5ae2c",
   "metadata": {},
   "outputs": [],
   "source": []
  },
  {
   "cell_type": "code",
   "execution_count": null,
   "id": "fde822f4-ef5c-4866-ad47-b0c48efca525",
   "metadata": {},
   "outputs": [],
   "source": []
  },
  {
   "cell_type": "markdown",
   "id": "6ab68905-b32e-44da-8bd0-df34ba9a21b0",
   "metadata": {},
   "source": [
    "## HYPOTHESIS TESTING"
   ]
  },
  {
   "cell_type": "raw",
   "id": "f91bd4cf-7856-4818-b1db-21b7bfecf908",
   "metadata": {},
   "source": [
    "Null Hypothesis (H0): The average weekly operating cost is equal to the theoretical cost model.\n",
    "                        H0: u=4000\n",
    "Alternative Hypothesis (H1): The average weekly operating cost is greater than the theoretical cost model.\n",
    "                            H1: u>4000"
   ]
  },
  {
   "cell_type": "code",
   "execution_count": 12,
   "id": "fa1a9703-a4e0-43e9-83f0-8a7a268af22f",
   "metadata": {},
   "outputs": [
    {
     "data": {
      "text/plain": [
       "-38.0"
      ]
     },
     "execution_count": 12,
     "metadata": {},
     "output_type": "execute_result"
    }
   ],
   "source": [
    "import numpy as np\n",
    "from scipy.stats import norm\n",
    "\n",
    "# Given data\n",
    "sample_mean = 3050  # ˉxˉ\n",
    "X = 600  # Number of units produced\n",
    "W0 = 1000 + 5 * X  # Theoretical mean cost according to the model\n",
    "sigma = 5 * 25  # Standard deviation\n",
    "n = 25  # Sample size\n",
    "\n",
    "# Calculate the test statistic (t)\n",
    "t_statistic = (sample_mean - W0) / (sigma / np.sqrt(n))\n",
    "\n",
    "# Print the test statistic\n",
    "t_statistic\n"
   ]
  },
  {
   "cell_type": "code",
   "execution_count": 13,
   "id": "dc7597bb-04e8-4b72-ab2a-2f2fbdbd0c43",
   "metadata": {},
   "outputs": [
    {
     "data": {
      "text/plain": [
       "1.6448536269514722"
      ]
     },
     "execution_count": 13,
     "metadata": {},
     "output_type": "execute_result"
    }
   ],
   "source": [
    "# Significance level\n",
    "alpha = 0.05\n",
    "\n",
    "# Determine the critical value for a one-tailed test\n",
    "critical_value = norm.ppf(1 - alpha)\n",
    "\n",
    "# Print the critical value\n",
    "critical_value"
   ]
  },
  {
   "cell_type": "code",
   "execution_count": 14,
   "id": "f855663f-bc4a-47ba-b1ff-8bb812b05a37",
   "metadata": {},
   "outputs": [
    {
     "data": {
      "text/plain": [
       "'Fail to reject the null hypothesis.'"
      ]
     },
     "execution_count": 14,
     "metadata": {},
     "output_type": "execute_result"
    }
   ],
   "source": [
    "# Make a decision based on the test statistic\n",
    "if t_statistic > critical_value:\n",
    "    decision = \"Reject the null hypothesis.\"\n",
    "else:\n",
    "    decision = \"Fail to reject the null hypothesis.\"\n",
    "\n",
    "# Print the decision\n",
    "decision"
   ]
  },
  {
   "cell_type": "markdown",
   "id": "a305aae3-9dae-4be4-b8f5-af7883cd60ce",
   "metadata": {},
   "source": [
    "## Conclusion\n",
    "\n",
    "The result will help you conclude whether the observed mean weekly cost of Rs. 3050 provides enough evidence to support the claim that the average operating costs have increased beyond the theoretical model based on the data collected. \n",
    "If the test statistic is greater than the critical value, you reject the null hypothesis; otherwise, you fail to reject it."
   ]
  },
  {
   "cell_type": "code",
   "execution_count": null,
   "id": "798ba635-c5b9-4b17-937f-dc3aa0aaffd0",
   "metadata": {},
   "outputs": [],
   "source": []
  }
 ],
 "metadata": {
  "kernelspec": {
   "display_name": "Python 3 (ipykernel)",
   "language": "python",
   "name": "python3"
  },
  "language_info": {
   "codemirror_mode": {
    "name": "ipython",
    "version": 3
   },
   "file_extension": ".py",
   "mimetype": "text/x-python",
   "name": "python",
   "nbconvert_exporter": "python",
   "pygments_lexer": "ipython3",
   "version": "3.12.4"
  }
 },
 "nbformat": 4,
 "nbformat_minor": 5
}
