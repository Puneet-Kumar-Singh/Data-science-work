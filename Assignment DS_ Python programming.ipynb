{
 "cells": [
  {
   "cell_type": "raw",
   "id": "7987fd59-9ea1-4f48-8a6e-6139405dc658",
   "metadata": {},
   "source": [
    "Write a Python program that checks whether a given number is prime or not. \n",
    "A prime number is a natural number greater than 1 that has no positive divisors other than 1 and itself."
   ]
  },
  {
   "cell_type": "code",
   "execution_count": 28,
   "id": "914597eb-748a-40a3-936a-e000fa2f8759",
   "metadata": {},
   "outputs": [
    {
     "name": "stdin",
     "output_type": "stream",
     "text": [
      "enter the number 5\n"
     ]
    },
    {
     "name": "stdout",
     "output_type": "stream",
     "text": [
      "its a prime number\n"
     ]
    }
   ],
   "source": [
    "prime=int(input('enter the number'))\n",
    "for i in range(2, prime):\n",
    "    if prime%i==0:\n",
    "        print(\"not a prime number\")\n",
    "        break\n",
    "else:\n",
    "    print(\"its a prime number\")"
   ]
  },
  {
   "cell_type": "raw",
   "id": "c01d69e7-f43a-4691-bf1b-4195c0493baa",
   "metadata": {},
   "source": [
    "Develop a Python program that generates two random numbers and asks the user to enter the product of these numbers. \n",
    "The program should then check if the user's answer is correct and display an appropriate message."
   ]
  },
  {
   "cell_type": "code",
   "execution_count": 2,
   "id": "d8ab97ef-53d1-423a-a38a-2c869e407f12",
   "metadata": {},
   "outputs": [
    {
     "name": "stdout",
     "output_type": "stream",
     "text": [
      "random number 1: 40 \n",
      "random number 2: 2\n",
      "***********************SOLVE AND ENTER THE PRODUCT OF THESE NUMBERS************************\n"
     ]
    },
    {
     "name": "stdin",
     "output_type": "stream",
     "text": [
      "enter the product of these system generated nummbers 80\n"
     ]
    },
    {
     "name": "stdout",
     "output_type": "stream",
     "text": [
      "wow your answer is correct\n"
     ]
    }
   ],
   "source": [
    "import random\n",
    "num1=random.randint(1,100)\n",
    "num2=random.randint(1,100)\n",
    "print('random number 1:',num1,'\\nrandom number 2:',num2)\n",
    "print(\"***********************SOLVE AND ENTER THE PRODUCT OF THESE NUMBERS************************\")\n",
    "product=int(input(\"enter the product of these system generated nummbers\"))\n",
    "\n",
    "if product==num1*num2:\n",
    "    print(\"wow your answer is correct\")\n",
    "else:\n",
    "    print(\"sorry incorrect answer solve it again\")"
   ]
  },
  {
   "cell_type": "raw",
   "id": "7997dbaa-1f66-4ce7-8ba3-26afe8816438",
   "metadata": {},
   "source": [
    "Create a Python script that prints the squares of all even or odd numbers within the range of 100 to 200.\n",
    "Choose either even or odd numbers and document your choice in the code."
   ]
  },
  {
   "cell_type": "code",
   "execution_count": 11,
   "id": "fe44024a-8b59-4fcb-8d55-b55a5a604bda",
   "metadata": {},
   "outputs": [
    {
     "name": "stdout",
     "output_type": "stream",
     "text": [
      "list of even number form 100 to 200: [100, 102, 104, 106, 108, 110, 112, 114, 116, 118, 120, 122, 124, 126, 128, 130, 132, 134, 136, 138, 140, 142, 144, 146, 148, 150, 152, 154, 156, 158, 160, 162, 164, 166, 168, 170, 172, 174, 176, 178, 180, 182, 184, 186, 188, 190, 192, 194, 196, 198]\n",
      "============================================================================================\n",
      "list of odd number form 100 to 200: [101, 103, 105, 107, 109, 111, 113, 115, 117, 119, 121, 123, 125, 127, 129, 131, 133, 135, 137, 139, 141, 143, 145, 147, 149, 151, 153, 155, 157, 159, 161, 163, 165, 167, 169, 171, 173, 175, 177, 179, 181, 183, 185, 187, 189, 191, 193, 195, 197, 199]\n"
     ]
    }
   ],
   "source": [
    "even_num=[]\n",
    "odd_num=[]\n",
    "for i in range(100,200):\n",
    "    if i%2==0:\n",
    "        even_num.append(i)\n",
    "    else:\n",
    "        odd_num.append(i)\n",
    "\n",
    "print(\"list of even number form 100 to 200:\",even_num)\n",
    "print(\"============================================================================================\")\n",
    "print(\"list of odd number form 100 to 200:\",odd_num)"
   ]
  },
  {
   "cell_type": "raw",
   "id": "c6229381-e323-429d-ada7-c20f4b7473b3",
   "metadata": {},
   "source": [
    "write a program to count the number of words in a given text.\n",
    "example:\n",
    "input_text = \"This is a sample text. This text will be used to demonstrate the word counter.\"\n",
    "Expected output:\n",
    "'This': 2 \n",
    "'is': 1\n",
    "'a': 1\n",
    "'sample': 1\n",
    "'text.': 1\n"
   ]
  },
  {
   "cell_type": "code",
   "execution_count": 28,
   "id": "d37ace23-0fd6-4e5a-8082-31238d282305",
   "metadata": {},
   "outputs": [
    {
     "name": "stdout",
     "output_type": "stream",
     "text": [
      "this is the dict where we have saved the wordes temporarily: {'This': 2, 'is': 3, 'a': 1, 'program': 1, 'to': 2, 'count': 2, 'the': 2, 'given': 1, 'text.': 1, 'text': 1, 'used': 1, 'words.': 1}\n",
      "==============================================================================\n",
      "the word count of the string is :\n",
      "'This': 2\n",
      "'is': 3\n",
      "'a': 1\n",
      "'program': 1\n",
      "'to': 2\n",
      "'count': 2\n",
      "'the': 2\n",
      "'given': 1\n",
      "'text.': 1\n",
      "'text': 1\n",
      "'used': 1\n",
      "'words.': 1\n"
     ]
    }
   ],
   "source": [
    "input_text = \"This is a program to count is the given text. This text is used to count the words.\"\n",
    "# for user input\n",
    "#input_text=str(input(\"enter the text here\"))\n",
    "words = input_text.split()\n",
    "word_count = {}\n",
    "for word in words:\n",
    "    if word in word_count:\n",
    "        word_count[word] += 1\n",
    "    else:\n",
    "        word_count[word] = 1\n",
    "\n",
    "print(\"this is the dict where we have saved the wordes temporarily:\",word_count)\n",
    "print(\"==============================================================================\")\n",
    "print(\"the word count of the string is :\")\n",
    "for word, count in word_count.items():\n",
    "    print(f\"'{word}': {count}\")\n"
   ]
  },
  {
   "cell_type": "raw",
   "id": "e46e05ea-f0f2-4cdf-893b-e2062a086716",
   "metadata": {},
   "source": [
    "Write a Python function called is_palindrome that takes a string as input and returns True if the string is a palindrome, and False otherwise.\n",
    "A palindrome is a word, phrase, number, or other sequence of characters that reads the same forward and backward, ignoring spaces, punctuation, and capitalization.\n",
    "\n",
    "Example:\n",
    "Input: \"racecar\"\n",
    "Expected Output: True"
   ]
  },
  {
   "cell_type": "code",
   "execution_count": 23,
   "id": "012f8b76-5892-477f-82f7-b7bd6bad15b1",
   "metadata": {},
   "outputs": [
    {
     "name": "stdin",
     "output_type": "stream",
     "text": [
      "enter the string asd\n"
     ]
    },
    {
     "name": "stdout",
     "output_type": "stream",
     "text": [
      " this is not_palindrome\n"
     ]
    }
   ],
   "source": [
    "def is_palindrome(text):\n",
    "    cleaned_text=''.join(char.lower() for char in text if char.isalnum())\n",
    "    return cleaned_text==cleaned_text[::-1]\n",
    "\n",
    "string=str(input(\"enter the string\"))\n",
    "if is_palindrome(string):\n",
    "    print(\"this is_palindrome\")\n",
    "else:\n",
    "    print(\" this is not_palindrome\")"
   ]
  },
  {
   "cell_type": "code",
   "execution_count": null,
   "id": "0509a92e-ed2a-4f6b-aba0-a792003eee29",
   "metadata": {},
   "outputs": [],
   "source": []
  }
 ],
 "metadata": {
  "kernelspec": {
   "display_name": "Python 3 (ipykernel)",
   "language": "python",
   "name": "python3"
  },
  "language_info": {
   "codemirror_mode": {
    "name": "ipython",
    "version": 3
   },
   "file_extension": ".py",
   "mimetype": "text/x-python",
   "name": "python",
   "nbconvert_exporter": "python",
   "pygments_lexer": "ipython3",
   "version": "3.12.4"
  }
 },
 "nbformat": 4,
 "nbformat_minor": 5
}
