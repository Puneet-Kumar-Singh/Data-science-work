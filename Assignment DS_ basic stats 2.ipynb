{
 "cells": [
  {
   "cell_type": "code",
   "execution_count": 1,
   "id": "4f87b629-652f-4099-a042-32cb255752f1",
   "metadata": {},
   "outputs": [],
   "source": [
    "import numpy as np\n",
    "import scipy.stats as stats"
   ]
  },
  {
   "cell_type": "code",
   "execution_count": 3,
   "id": "dcadcb2b-c819-41f1-875c-b3db9da7dee9",
   "metadata": {},
   "outputs": [
    {
     "data": {
      "text/plain": [
       "array([1.13, 1.55, 1.43, 0.92, 1.25, 1.36, 1.32, 0.85, 1.07, 1.48, 1.2 ,\n",
       "       1.33, 1.18, 1.22, 1.29])"
      ]
     },
     "execution_count": 3,
     "metadata": {},
     "output_type": "execute_result"
    }
   ],
   "source": [
    "# Data\n",
    "durability = np.array([1.13, 1.55, 1.43, 0.92, 1.25, 1.36, 1.32, 0.85, 1.07, 1.48, 1.20, 1.33, 1.18, 1.22, 1.29])\n",
    "durability"
   ]
  },
  {
   "cell_type": "code",
   "execution_count": 9,
   "id": "0d560293-8cdd-48d4-9f0d-84f1915e127d",
   "metadata": {},
   "outputs": [
    {
     "name": "stdout",
     "output_type": "stream",
     "text": [
      "lenght of the data is: 15 \n",
      "mean of the sample data is: 1.2386666666666666 \n",
      "standard deviation of the data is: 0.19316412956959936\n"
     ]
    }
   ],
   "source": [
    "# Step 1: Calculate sample mean and standard deviation\n",
    "n = len(durability)\n",
    "mean = np.mean(durability)\n",
    "std_dev = np.std(durability, ddof=1)  # Sample standard deviation\n",
    "\n",
    "print('lenght of the data is:',n,'\\nmean of the sample data is:',mean,'\\nstandard deviation of the data is:',std_dev)"
   ]
  },
  {
   "cell_type": "code",
   "execution_count": 11,
   "id": "16f607d9-5d5b-4512-b6a8-c7984a467528",
   "metadata": {},
   "outputs": [
    {
     "name": "stdout",
     "output_type": "stream",
     "text": [
      "confidence interval: 0.99 \n",
      "alpha: 0.010000000000000009 \n",
      "t-value: 2.976842734370834\n"
     ]
    }
   ],
   "source": [
    "# Step 2: Find t-value for 99% confidence interval\n",
    "confidence_level = 0.99\n",
    "alpha = 1 - confidence_level\n",
    "t_value = stats.t.ppf(1 - alpha/2, df=n-1)\n",
    "\n",
    "print('confidence level:',confidence_level,'\\nalpha:',alpha,'\\nt-value:',t_value)"
   ]
  },
  {
   "cell_type": "code",
   "execution_count": 12,
   "id": "ef6df431-544d-4a30-b543-6f6fceafb76a",
   "metadata": {},
   "outputs": [
    {
     "name": "stdout",
     "output_type": "stream",
     "text": [
      "margin of error: 0.14846932822817596 \n",
      "confidence interval (1.0901973384384906, 1.3871359948948425)\n"
     ]
    }
   ],
   "source": [
    "# Step 3: Construct the confidence interval\n",
    "margin_of_error = t_value * (std_dev / np.sqrt(n))\n",
    "confidence_interval = (mean - margin_of_error, mean + margin_of_error)\n",
    "\n",
    "print('margin of error:',margin_of_error,'\\nconfidence interval',confidence_interval)"
   ]
  },
  {
   "cell_type": "code",
   "execution_count": 17,
   "id": "c379f98a-9721-4df4-b2ca-7d29a40de221",
   "metadata": {},
   "outputs": [
    {
     "name": "stdout",
     "output_type": "stream",
     "text": [
      "Sample Mean: 1.24\n",
      "Sample Standard Deviation: 0.19\n",
      "99% Confidence Interval using Sample Standard Deviation: (1.0901973384384906, 1.3871359948948425)\n"
     ]
    }
   ],
   "source": [
    "#conclusion\n",
    "print(f\"Sample Mean: {np.round(mean,2)}\")\n",
    "print(f\"Sample Standard Deviation: {np.round(std_dev,2)}\")\n",
    "print(f\"99% Confidence Interval using Sample Standard Deviation: {confidence_interval}\")"
   ]
  },
  {
   "cell_type": "code",
   "execution_count": null,
   "id": "110e7996-2443-47f7-8a83-8e8559ed03d8",
   "metadata": {},
   "outputs": [],
   "source": []
  }
 ],
 "metadata": {
  "kernelspec": {
   "display_name": "Python 3 (ipykernel)",
   "language": "python",
   "name": "python3"
  },
  "language_info": {
   "codemirror_mode": {
    "name": "ipython",
    "version": 3
   },
   "file_extension": ".py",
   "mimetype": "text/x-python",
   "name": "python",
   "nbconvert_exporter": "python",
   "pygments_lexer": "ipython3",
   "version": "3.12.4"
  }
 },
 "nbformat": 4,
 "nbformat_minor": 5
}
